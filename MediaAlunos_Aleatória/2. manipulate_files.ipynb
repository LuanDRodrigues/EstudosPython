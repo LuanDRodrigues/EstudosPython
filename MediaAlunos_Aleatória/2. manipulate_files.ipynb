{
 "cells": [
  {
   "cell_type": "markdown",
   "metadata": {},
   "source": [
    "# Calculadora de Média de alunos\n",
    "### Classe de tratamento de dados\n",
    "### Esta secção tem objetivo de organizar as funções.\n",
    "\n",
    "Por Boas práticas sempre iniciar um arquivo (Opção 1)\n",
    "\n",
    "Sobre as entradas, temos dois tipos de entradas:\n",
    " - Manual: Necessário iniciar inserir os dados solicitados!\n",
    " - Aleatório: nesse caso é apenas um demonstrativo para gerar uma grande quantidade de dados aleatóriamente."
   ]
  },
  {
   "cell_type": "code",
   "execution_count": null,
   "metadata": {},
   "outputs": [],
   "source": [
    "class Dados:\n",
    "    def escrever_arquivo(texto,arq):\n",
    "        arquivo = open(arq, 'w', encoding='UTF-8')\n",
    "        arquivo.write(texto)\n",
    "        arquivo.close()\n",
    "\n",
    "    def atualizar_arquivo(texto, arq):\n",
    "        arquivo = open(arq,'a', encoding='UTF-8')\n",
    "        arquivo.write(texto)\n",
    "        arquivo.close()\n",
    "\n",
    "    def ler_arquivo(nome_arquivo):\n",
    "        arquivo = open(nome_arquivo, 'r', encoding='UTF-8')\n",
    "        text = arquivo.read()\n",
    "        arquivo.close()\n",
    "        print(text)\n",
    "\n",
    "    def media_notas(arq):\n",
    "        arquivo = open(arq, 'r', encoding='UTF-8')\n",
    "        notas_alunos = arquivo.read().split('\\n')[1:] #Tranformando variável em lista e retirando o cabeçalho.\n",
    "        print('{:<12}{:>5}{:>13}'.format('ALUNO','MÉDIA','SITUAÇÃO'))\n",
    "        media_lista = list()\n",
    "\n",
    "        #Separação de nomes e das notas\n",
    "        for x in notas_alunos:\n",
    "            nomes_lista = x.split(',')[0]\n",
    "            notas_lista = x.split(',')[1:]\n",
    "\n",
    "            # Convertendo os dados para número e calculando a média\n",
    "            f_media = lambda media: (sum([int(i) for i in media]) / 4)\n",
    "            media = f_media(notas_lista)\n",
    "\n",
    "            media_lista.append(media)\n",
    "\n",
    "            # Determinando aprovação\n",
    "            situacao = 'Aprovado' if (media) >= 6 else 'Reprovado'\n",
    "            \n",
    "            #impressão dos Dados dos alunos e os resultados.\n",
    "            print('{:<12}{:>5.2f}{:>13}'.format(nomes_lista, media, situacao))\n",
    "        \n"
   ]
  },
  {
   "cell_type": "markdown",
   "metadata": {},
   "source": [
    "### Importação dos dados"
   ]
  },
  {
   "cell_type": "code",
   "execution_count": null,
   "metadata": {},
   "outputs": [],
   "source": [
    "import random\n",
    "\n",
    "#Declarando Variável Global e pedido para o nome do arquivo a ser gerado.\n",
    "sequencia = ['Nome','PrimeiraNota','SegundaNota', 'TerceiraNota','QuartaNota']\n",
    "arquivo = input('Nome no Arquivo')+'.txt'"
   ]
  },
  {
   "cell_type": "markdown",
   "metadata": {},
   "source": [
    "### Seleção dos comandos"
   ]
  },
  {
   "cell_type": "code",
   "execution_count": null,
   "metadata": {},
   "outputs": [],
   "source": [
    "if __name__ == '__main__':\n",
    "    #Estrutura de repetição, faz com que o programa realize a solicitação dos funções desejadas.\n",
    "    while True:\n",
    "        b = int(input('''[ 1 ] iniciar NOVO Arquivo.\n",
    "        [ 2 ] Incluir Dados\n",
    "        [ 3 ] Realizar leitura\n",
    "        [ 4 ] Analizar\n",
    "        [ 5 ] Aleatorizar\n",
    "        [ 6 ] Finalizar'''))\n",
    "\n",
    "        # Finaliza o programa\n",
    "        if b == 6:\n",
    "            break\n",
    "        \n",
    "        # Realiza as analises e faz a impressão dos resultados\n",
    "        if b == 4:\n",
    "            Dados.media_notas(arquivo)\n",
    "\n",
    "        # Realiza montagem do cabeçalho do arquivo NOVO\n",
    "        if b == 1:\n",
    "            for i in sequencia:\n",
    "                a = str(i)\n",
    "                if i == \"Nome\":\n",
    "                    Dados.escrever_arquivo(a,arquivo)\n",
    "                else:\n",
    "                    a = ',' + i\n",
    "                    Dados.atualizar_arquivo(a, arquivo)\n",
    "\n",
    "        # Solicita as entradas para os dados\n",
    "        elif b == 2:\n",
    "            for i in sequencia:\n",
    "                a = str(input(f'Digite - {i}: '))\n",
    "                if i == \"Nome\":\n",
    "                    a = '\\n' + a\n",
    "                else:\n",
    "                    a = ',' + a\n",
    "                Dados.atualizar_arquivo(a, arquivo)\n",
    "\n",
    "        # Faz leitura dos dados presentes no arquivo supracitado.\n",
    "        elif b == 3:\n",
    "            Dados.ler_arquivo(arquivo)\n",
    "\n",
    "        # Realiza inserção aleatória dos alunos e suas notas.\n",
    "        elif b == 5:\n",
    "            quant = int(input('Quantos alunos?: '))\n",
    "            count = 1\n",
    "            for i in range(1,quant+1):\n",
    "                for j in sequencia:\n",
    "                    if j == \"Nome\":\n",
    "                        a = 'ALUNO{}'.format(count)\n",
    "                        a = '\\n' + str(a)\n",
    "                    else:\n",
    "                        a = str(random.randint(1, 10))\n",
    "                        a = ',' + a\n",
    "                    Dados.atualizar_arquivo(a, arquivo)\n",
    "                count += 1\n",
    "            "
   ]
  }
 ],
 "metadata": {
  "interpreter": {
   "hash": "d9a4ba7a39ad5692da286452aea182a2f639774b342ad6371c4f013f8b98072d"
  },
  "kernelspec": {
   "display_name": "Python 3.10.4 64-bit",
   "language": "python",
   "name": "python3"
  },
  "language_info": {
   "codemirror_mode": {
    "name": "ipython",
    "version": 3
   },
   "file_extension": ".py",
   "mimetype": "text/x-python",
   "name": "python",
   "nbconvert_exporter": "python",
   "pygments_lexer": "ipython3",
   "version": "3.10.4"
  },
  "orig_nbformat": 4
 },
 "nbformat": 4,
 "nbformat_minor": 2
}
