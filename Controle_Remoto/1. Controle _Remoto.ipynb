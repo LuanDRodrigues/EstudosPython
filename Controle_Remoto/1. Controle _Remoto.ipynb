{
 "cells": [
  {
   "cell_type": "markdown",
   "metadata": {},
   "source": [
    "# PROGRAMA PARA CONTROLE DE TELEVISÃO\n",
    "## Comandos básicos para realizar operação de funcionamento de televisão."
   ]
  },
  {
   "cell_type": "markdown",
   "metadata": {},
   "source": [
    "Quando iniciamos o programa o setup inicial é:\n",
    " - A Televisão está desligada;\n",
    " - o canal inicial é a Rede Globo;\n",
    " - o volume inicia no 18."
   ]
  },
  {
   "cell_type": "code",
   "execution_count": null,
   "metadata": {},
   "outputs": [],
   "source": [
    "# Importação de pacotes\n",
    "from time import sleep"
   ]
  },
  {
   "cell_type": "markdown",
   "metadata": {},
   "source": [
    "### Classe e Métodos\n",
    "Como ação introdutória foi realizada a inserção de uma classe. o objetivo é praticar-la e entender."
   ]
  },
  {
   "cell_type": "code",
   "execution_count": null,
   "metadata": {},
   "outputs": [],
   "source": [
    "# Criação do da classe e seus métodos:\n",
    "class televisao:\n",
    "    def __init__(self):\n",
    "        self.liga = False\n",
    "\n",
    "    def power(self):\n",
    "        # comment: \n",
    "        if self.liga:\n",
    "            self.liga = False\n",
    "        else:\n",
    "            self.liga = True\n",
    "    # end def\n",
    "    "
   ]
  },
  {
   "cell_type": "markdown",
   "metadata": {},
   "source": [
    "### Menu de opções:\n",
    "Teremos a seguir o código que imprime o Menu de seleção desejada pelo usuário."
   ]
  },
  {
   "cell_type": "code",
   "execution_count": null,
   "metadata": {},
   "outputs": [],
   "source": [
    "# Menu de opções:\n",
    "print('{:-^30}'.format('> MENU <'))\n",
    "print('''[ 1 ] Power\n",
    "[ 2 ] Sobe Canal\n",
    "[ 3 ] Desce Canal\n",
    "[ 4 ] Sobe Volume\n",
    "[ 5 ] Desce Volume\n",
    "[ 6 ] Finalizar\n",
    "{:-^30}'''.format(''))   "
   ]
  },
  {
   "cell_type": "markdown",
   "metadata": {},
   "source": [
    "### Declaração das variáreis e dos dados\n",
    "Aqui encontraremos todas as variávei globais utilizadas para realizar as operações necessários no código."
   ]
  },
  {
   "cell_type": "code",
   "execution_count": null,
   "metadata": {},
   "outputs": [],
   "source": [
    "# Declaração das variáveis e lista denominadas para as operações:\n",
    "botao = 0\n",
    "canais = {1:'7 - Rede Record', 2:'15 - Rede Vida', 3:'25 - Rede Band', 4:'41 - SBT', 5:'47 - Rede Globo'}\n",
    "operacoes = {1:'LIGAR', 2:'SUBIR CANAL', 3:'DESCER CANAL', 4:'SUBIR VOLUME', 5:'DESCER VOLUME'}\n",
    "volume = 18\n",
    "nc = 5\n",
    "tv = televisao()"
   ]
  },
  {
   "cell_type": "markdown",
   "metadata": {},
   "source": [
    "### O Programa Lógico:\n",
    "\n",
    "Nele temos a execução do código que realiza as operações necessárias para cada Botão pressionado pelo usuário."
   ]
  },
  {
   "cell_type": "code",
   "execution_count": null,
   "metadata": {},
   "outputs": [],
   "source": [
    "while True:\n",
    "    # Pressionando botão:\n",
    "    botao = int(input('Aperte um Botão : [1, 2, 3, 4, 5, 6]'))\n",
    "\n",
    "    # Desligar a Televisão\n",
    "    if botao == 6:\n",
    "        print('A televisão está desligando!!')\n",
    "        sleep(3)\n",
    "        print('a Televisão está DESLIGADA')\n",
    "        break\n",
    "\n",
    "    # Mensagem para Valores errados, ou se houver a tentativa de manusear o controle com a televisão desligada.\n",
    "    if botao != 1:\n",
    "        if tv.liga == False and botao in operacoes.keys():\n",
    "            print(f'Necessário ligar a televisão para {operacoes[botao]}')\n",
    "            continue\n",
    "        elif botao not in operacoes.keys():\n",
    "            print('Por gentileza, Digite um botão correto!')\n",
    "            continue\n",
    "        \n",
    "    # Ligando e Desligando a Televisão:\n",
    "    elif botao == 1:\n",
    "        tv.power()\n",
    "        l1 = str()\n",
    "        l2 = str()\n",
    "        if tv.liga:\n",
    "            l1 = 'Ligando'\n",
    "            l2 = 'LIGADA'\n",
    "        else:\n",
    "            l1 = 'Desligando'\n",
    "            l2 = 'DESLIGADA'\n",
    "        print(f'A TV esta {l1}...\\n')\n",
    "        sleep(2)\n",
    "        print(f'{l2:-^30}')\n",
    "    \n",
    "    #Trocar de Canal\n",
    "    if botao == 2 or botao == 3:\n",
    "        if botao == 2: nc += 1\n",
    "        if botao == 3: nc -= 1\n",
    "        if nc == 6: nc = 1 \n",
    "        if nc == 0: nc = 6 \n",
    "        print('{}: {}'.format(operacoes[botao], canais[nc]))\n",
    "\n",
    "    # Aumentar o Volume\n",
    "    if botao == 4:\n",
    "        if volume == 30:\n",
    "            print('O volume está no Máximo: 30!')\n",
    "        else:\n",
    "            volume += 1\n",
    "            print('{}: {}'.format(operacoes[botao], volume))        \n",
    "    \n",
    "    #Reduzir o Volume\n",
    "    if botao == 5:\n",
    "        if volume == 0:\n",
    "            print('Volume Mínimo!\\nA TV está No mudo!')\n",
    "        else:\n",
    "            volume -= 1\n",
    "            print('{}: {}'.format(operacoes[botao], volume))  \n",
    " \n"
   ]
  }
 ],
 "metadata": {
  "interpreter": {
   "hash": "d9a4ba7a39ad5692da286452aea182a2f639774b342ad6371c4f013f8b98072d"
  },
  "kernelspec": {
   "display_name": "Python 3.10.4 64-bit",
   "language": "python",
   "name": "python3"
  },
  "language_info": {
   "codemirror_mode": {
    "name": "ipython",
    "version": 3
   },
   "file_extension": ".py",
   "mimetype": "text/x-python",
   "name": "python",
   "nbconvert_exporter": "python",
   "pygments_lexer": "ipython3",
   "version": "3.10.4"
  },
  "orig_nbformat": 4
 },
 "nbformat": 4,
 "nbformat_minor": 2
}
